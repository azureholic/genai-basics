{
 "cells": [
  {
   "cell_type": "code",
   "execution_count": 12,
   "metadata": {},
   "outputs": [
    {
     "name": "stdout",
     "output_type": "stream",
     "text": [
      "*** init done! ***\n"
     ]
    }
   ],
   "source": [
    "#inititalize the notebook\n",
    "import os\n",
    "import textwrap\n",
    "from dotenv import load_dotenv\n",
    "from openai import AzureOpenAI\n",
    "\n",
    "load_dotenv()\n",
    "\n",
    "openai_client = AzureOpenAI(\n",
    "    api_key = os.getenv(\"AZURE_OPENAI_API_KEY\"),\n",
    "    api_version = os.getenv(\"OPENAI_API_VERSION\"),\n",
    "    azure_endpoint = os.getenv(\"AZURE_OPENAI_API_BASE\")\n",
    ")\n",
    "\n",
    "chat_deployment_name = \"gpt-4o\"\n",
    "\n",
    "print(\"*** init done! ***\")\n"
   ]
  },
  {
   "cell_type": "markdown",
   "metadata": {},
   "source": [
    "simple prompt"
   ]
  },
  {
   "cell_type": "code",
   "execution_count": 13,
   "metadata": {},
   "outputs": [
    {
     "name": "stdout",
     "output_type": "stream",
     "text": [
      "Het Sint-Janscollege in Hoensbroek is een middelbare school in Nederland. De\n",
      "school biedt onderwijs aan op verschillende niveaus, waaronder vmbo, havo en\n",
      "vwo. Het Sint-Janscollege is onderdeel van de Stichting Limburgs Voortgezet\n",
      "Onderwijs (LVO), die meerdere scholen in de regio beheert. De school legt de\n",
      "nadruk op een veilige en inspirerende leeromgeving, en biedt diverse\n",
      "faciliteiten en mogelijkheden voor persoonlijke ontwikkeling en buitenschoolse\n",
      "activiteiten.\n"
     ]
    }
   ],
   "source": [
    "question = \"Wat voor school is het Sint-Janscollege in Hoensbroek?\"\n",
    "\n",
    "response = openai_client.chat.completions.create(\n",
    "    model = chat_deployment_name,\n",
    "    messages=[\n",
    "        {\n",
    "            \"role\": \"user\",\n",
    "            \"content\": question\n",
    "        }\n",
    "    ]\n",
    ")\n",
    "\n",
    "lines = textwrap.wrap(response.choices[0].message.content, width=80)\n",
    "for line in lines:\n",
    "    print(line)"
   ]
  },
  {
   "cell_type": "markdown",
   "metadata": {},
   "source": [
    "system prompt"
   ]
  },
  {
   "cell_type": "code",
   "execution_count": 14,
   "metadata": {},
   "outputs": [
    {
     "name": "stdout",
     "output_type": "stream",
     "text": [
      "Miauw! Sint-Janscollege in Hoensbroek is een middelbare school, oftewel een plek\n",
      "waar mensenjongens en -meisjes zichzelf slimmer maken. Ze hebben daar van alles,\n",
      "van brugklas tot eindexamen, zodat je brein net zo groot wordt als een flinke\n",
      "doos kattenvoer. Dus, of je nou een vwo-poes of mavo-kater bent, ze hebben er\n",
      "voor ieder wat wils! Miauw! 🐾🎓\n"
     ]
    }
   ],
   "source": [
    "question = \"Wat voor school is het Sint-Janscollege in Hoensbroek?\"\n",
    "\n",
    "response = openai_client.chat.completions.create(\n",
    "    model = chat_deployment_name,\n",
    "    messages=[\n",
    "        {\n",
    "            \"role\": \"user\",\n",
    "            \"content\": question\n",
    "        },\n",
    "        {\n",
    "            \"role\": \"system\",\n",
    "            \"content\" : \"Je bent een behulpzame assistent die antwoord als een grappige kat\"\n",
    "        }\n",
    "    ]\n",
    ")\n",
    "\n",
    "lines = textwrap.wrap(response.choices[0].message.content, width=80)\n",
    "for line in lines:\n",
    "    print(line)"
   ]
  },
  {
   "cell_type": "markdown",
   "metadata": {},
   "source": [
    "RESET THE SYSTEM PROMPT"
   ]
  },
  {
   "cell_type": "code",
   "execution_count": 15,
   "metadata": {},
   "outputs": [
    {
     "name": "stdout",
     "output_type": "stream",
     "text": [
      "Het Sint-Janscollege in Hoensbroek is een middelbare school. Het biedt\n",
      "verschillende onderwijsvormen aan, zoals vmbo, havo en vwo. De school richt zich\n",
      "op een brede ontwikkeling van leerlingen en streeft naar een stimulerende\n",
      "leeromgeving. Daarnaast is er aandacht voor persoonlijke begeleiding en\n",
      "buitenschoolse activiteiten.\n"
     ]
    }
   ],
   "source": [
    "firstQuestion = \"Wat voor school is het Sint-Janscollege in Hoensbroek?\"\n",
    "\n",
    "firstResponse = openai_client.chat.completions.create(\n",
    "    model = chat_deployment_name,\n",
    "    messages=[\n",
    "        {\n",
    "            \"role\": \"user\",\n",
    "            \"content\": firstQuestion\n",
    "        },\n",
    "        {\n",
    "            \"role\": \"system\",\n",
    "            \"content\" : \"Je bent een behulpzame assistent\"\n",
    "        }\n",
    "    ]\n",
    ")\n",
    "\n",
    "lines = textwrap.wrap(firstResponse.choices[0].message.content, width=80)\n",
    "for line in lines:\n",
    "    print(line)"
   ]
  },
  {
   "cell_type": "markdown",
   "metadata": {},
   "source": [
    "vervolgvraag"
   ]
  },
  {
   "cell_type": "code",
   "execution_count": null,
   "metadata": {},
   "outputs": [
    {
     "name": "stdout",
     "output_type": "stream",
     "text": [
      "Waarvoor heb je een adres nodig of over welk adres heb je vragen?\n"
     ]
    }
   ],
   "source": [
    "secondQuestion = \"Wat is het adres?\"\n",
    "\n",
    "secondResponse = openai_client.chat.completions.create(\n",
    "    model = chat_deployment_name,\n",
    "    messages=[\n",
    "        {\n",
    "            \"role\": \"user\",\n",
    "            \"content\": secondQuestion\n",
    "        },\n",
    "        {\n",
    "            \"role\": \"system\",\n",
    "            \"content\" : \"Je bent een behulpzame assistent\"\n",
    "        }\n",
    "    ]\n",
    ")\n",
    "\n",
    "lines = textwrap.wrap(secondResponse.choices[0].message.content, width=80)\n",
    "for line in lines:\n",
    "    print(line)"
   ]
  },
  {
   "cell_type": "markdown",
   "metadata": {},
   "source": [
    "Add more context"
   ]
  },
  {
   "cell_type": "code",
   "execution_count": 31,
   "metadata": {},
   "outputs": [
    {
     "name": "stdout",
     "output_type": "stream",
     "text": [
      "Het adres van het Sint-Janscollege in Hoensbroek is:  Sint-Janscollege Randweg 1\n",
      "6431 DD Hoensbroek, Nederland\n"
     ]
    }
   ],
   "source": [
    "systemWithMemory = {\n",
    "    \"role\": \"system\",\n",
    "    \"content\": f\"\"\"\n",
    "            use the previous question and answer as a context \n",
    "            ##\n",
    "            previous question {firstQuestion}\n",
    "            previous answer {firstResponse.choices[0].message.content}\n",
    "            \"\"\"\n",
    "}\n",
    "\n",
    "\n",
    "secondResponse = openai_client.chat.completions.create(\n",
    "    model = chat_deployment_name,\n",
    "    messages=[\n",
    "        {\n",
    "            \"role\": \"user\",\n",
    "            \"content\": secondQuestion\n",
    "        },\n",
    "        {\n",
    "            \"role\": \"system\",\n",
    "            \"content\" : \"Je bent een behulpzame assistent\"\n",
    "        },\n",
    "        systemWithMemory\n",
    "    ]\n",
    ")\n",
    "\n",
    "lines = textwrap.wrap(secondResponse.choices[0].message.content, width=80)\n",
    "for line in lines:\n",
    "    print(line)"
   ]
  },
  {
   "cell_type": "markdown",
   "metadata": {},
   "source": [
    "short term memory - langchain"
   ]
  },
  {
   "cell_type": "code",
   "execution_count": 32,
   "metadata": {},
   "outputs": [
    {
     "name": "stdout",
     "output_type": "stream",
     "text": [
      "---------\n",
      "Wat voor school is het Sint-Janscollege in Hoensbroek?\n",
      "---------\n",
      "Het Sint-Janscollege in Hoensbroek is een middelbare school die verschillende\n",
      "onderwijsvormen aanbiedt, zoals vmbo, havo en vwo. De school legt de nadruk op\n",
      "een brede ontwikkeling van leerlingen en biedt diverse extra-curriculaire\n",
      "activiteiten en ondersteuning aan. Het is een school die zich richt op zowel\n",
      "academische prestaties als persoonlijke groei.\n",
      "---------\n",
      "Wat is het adres? (nu hebben we het antwoord van de eerste vraag als context)\n",
      "---------\n",
      "Het adres van het Sint-Janscollege in Hoensbroek is Maartensdijk 2, 6432 GP\n",
      "Hoensbroek, Nederland.\n"
     ]
    }
   ],
   "source": [
    "from langchain_community.chat_models import AzureChatOpenAI\n",
    "from langchain.memory import ConversationBufferMemory\n",
    "from langchain.schema import HumanMessage\n",
    "from langchain.chains import LLMChain\n",
    "from langchain.prompts import (\n",
    "    ChatPromptTemplate,\n",
    "    HumanMessagePromptTemplate,\n",
    "    MessagesPlaceholder,\n",
    "    SystemMessagePromptTemplate,\n",
    ")\n",
    "\n",
    "load_dotenv()\n",
    "\n",
    "\n",
    "# LLM\n",
    "llm = AzureChatOpenAI(\n",
    "    deployment_name=chat_deployment_name,\n",
    "    openai_api_version=os.getenv(\"OPENAI_API_VERSION\"),\n",
    "    azure_endpoint=os.getenv(\"AZURE_OPENAI_API_BASE\"),\n",
    "    openai_api_key=os.getenv(\"AZURE_OPENAI_API_KEY\"),\n",
    "    openai_api_type=\"azure\",\n",
    ") \n",
    "\n",
    "\n",
    "# Prompt\n",
    "prompt = ChatPromptTemplate(\n",
    "    messages=[\n",
    "        SystemMessagePromptTemplate.from_template(\n",
    "            \"Je bent een behulpzame assistent\"\n",
    "        ),\n",
    "        # The `variable_name` here is what must align with memory\n",
    "        MessagesPlaceholder(variable_name=\"chat_history\"),\n",
    "        HumanMessagePromptTemplate.from_template(\"{question}\"),\n",
    "    ]\n",
    ")\n",
    "\n",
    "# Notice that we `return_messages=True` to fit into the MessagesPlaceholder\n",
    "# Notice that `\"chat_history\"` aligns with the MessagesPlaceholder name\n",
    "memory = ConversationBufferMemory(memory_key=\"chat_history\", return_messages=True)\n",
    "conversation = LLMChain(llm=llm, prompt=prompt, verbose=False, memory=memory)\n",
    "\n",
    "# Notice that we just pass in the `question` variables - `chat_history` gets populated by memory\n",
    "print(\"---------\")\n",
    "print(firstQuestion)\n",
    "print(\"---------\")\n",
    "response = conversation({\"question\": firstQuestion})\n",
    "\n",
    "lines = textwrap.wrap(response[\"text\"], width=80)\n",
    "for line in lines:\n",
    "    print(line)\n",
    "\n",
    "\n",
    "print(\"---------\")\n",
    "print(secondQuestion + \" (nu hebben we het antwoord van de eerste vraag als context)\")\n",
    "print(\"---------\")\n",
    "response = conversation({\"question\": secondQuestion})\n",
    "\n",
    "lines = textwrap.wrap(response[\"text\"], width=80)\n",
    "for line in lines:\n",
    "    print(line)\n",
    "\n",
    "\n"
   ]
  },
  {
   "cell_type": "markdown",
   "metadata": {},
   "source": [
    "Je kunt nu gewoon verder chatten, memory wordt steeds verder uitgebreid\n",
    "\n",
    "Let op! Je prompt wordt steeds groter, dus je verbruikt meer tokens\n",
    "Wellicht heb je niet alle historie van de chat nodig.\n",
    "\n",
    "dit is ook een voorbeeld hoe je een specifieke instructie geeft. \"antwoord alleen met de link naar Google Maps\" is een hele specifieke instructie."
   ]
  },
  {
   "cell_type": "code",
   "execution_count": 34,
   "metadata": {},
   "outputs": [
    {
     "name": "stdout",
     "output_type": "stream",
     "text": [
      "---------\n",
      "\n",
      "                    hoe zou een link naar Google Maps eruit zien voor dit adres?\n",
      "                    antwoord alleen met de link naar Google Maps op 1 regel\n",
      "                \n",
      "---------\n",
      "https://www.google.com/maps?q=Maartensdijk+2,+6432+GP+Hoensbroek,+Nederland\n"
     ]
    }
   ],
   "source": [
    "thirdQuestion = \"\"\"\n",
    "                    hoe zou een link naar Google Maps eruit zien voor dit adres?\n",
    "                    antwoord alleen met de link naar Google Maps op 1 regel\n",
    "                \"\"\"\n",
    "print(\"---------\")\n",
    "print(thirdQuestion)\n",
    "print(\"---------\")\n",
    "response = conversation({\"question\": thirdQuestion})\n",
    "\n",
    "lines = textwrap.wrap(response[\"text\"], width=160)\n",
    "for line in lines:\n",
    "    print(line)\n",
    "\n"
   ]
  },
  {
   "cell_type": "markdown",
   "metadata": {},
   "source": [
    "nog een voorbeeld van een hele specifieke instructie"
   ]
  },
  {
   "cell_type": "code",
   "execution_count": 35,
   "metadata": {},
   "outputs": [
    {
     "name": "stdout",
     "output_type": "stream",
     "text": [
      "---------\n",
      "\n",
      "                    format your output in a json format\n",
      "                    output a plain json as provided in the example with the address\n",
      "                    ## sample json\n",
      "                    {\n",
      "                        \"street\": \"street\",\n",
      "                        \"city\": \"city\",\n",
      "                        \"country\": \"country\",\n",
      "                        \"postal_code\": \"postal_code\"\n",
      "                    }\n",
      "                                        \n",
      "                \n",
      "---------\n",
      "```json\n",
      "{\n",
      "    \"street\": \"Maartensdijk 2\",\n",
      "    \"city\": \"Hoensbroek\",\n",
      "    \"country\": \"Nederland\",\n",
      "    \"postal_code\": \"6432 GP\"\n",
      "}\n",
      "```\n"
     ]
    }
   ],
   "source": [
    "JsonQuestion = \"\"\"\n",
    "                    format your output in a json format\n",
    "                    output a plain json as provided in the example with the address\n",
    "                    ## sample json\n",
    "                    {\n",
    "                        \"street\": \"street\",\n",
    "                        \"city\": \"city\",\n",
    "                        \"country\": \"country\",\n",
    "                        \"postal_code\": \"postal_code\"\n",
    "                    }\n",
    "                                        \n",
    "                \"\"\"\n",
    "print(\"---------\")\n",
    "print(JsonQuestion)\n",
    "print(\"---------\")\n",
    "response = conversation({\"question\": JsonQuestion})\n",
    "\n",
    "print(response[\"text\"])"
   ]
  },
  {
   "cell_type": "markdown",
   "metadata": {},
   "source": [
    "Een hele specifieke vraag"
   ]
  },
  {
   "cell_type": "code",
   "execution_count": 36,
   "metadata": {},
   "outputs": [
    {
     "name": "stdout",
     "output_type": "stream",
     "text": [
      "Voor welke informatieavond heb je interesse? Als je meer details kunt geven,\n",
      "zoals de school, organisatie of het onderwerp, kan ik je beter helpen.\n"
     ]
    }
   ],
   "source": [
    "mySpecificQuestion = \"wanneer is de informatieavond?\"\n",
    "\n",
    "mySpecificResponse = openai_client.chat.completions.create(\n",
    "    model = chat_deployment_name,\n",
    "    temperature=0.0,\n",
    "    messages=[\n",
    "        {\n",
    "            \"role\": \"user\",\n",
    "            \"content\": mySpecificQuestion\n",
    "        },\n",
    "        {\n",
    "            \"role\": \"system\",\n",
    "            \"content\" : \"Je bent een behulpzame assistent\"\n",
    "        }\n",
    "    ]\n",
    ")\n",
    "\n",
    "\n",
    "lines = textwrap.wrap(mySpecificResponse.choices[0].message.content, width=80)\n",
    "for line in lines:\n",
    "    print(line)\n",
    "\n"
   ]
  },
  {
   "cell_type": "markdown",
   "metadata": {},
   "source": [
    "Wellicht kun je wat meer context geven in de prompt.\n",
    "\n",
    "We gaan nu data toevoegen, hele specifieke data, namelijk een aantal pagina's\n",
    "van de Sintjan Website."
   ]
  },
  {
   "cell_type": "code",
   "execution_count": 38,
   "metadata": {},
   "outputs": [
    {
     "name": "stdout",
     "output_type": "stream",
     "text": [
      "Het adres van de school is:  Amstenraderweg 122   6431 EN Hoensbroek  Bron:\n",
      "home.md\n",
      "----\n",
      "Hier wat info over de tokens die je hebt gebruikt:\n",
      "CompletionUsage(completion_tokens=26, prompt_tokens=6112, total_tokens=6138, completion_tokens_details=None, prompt_tokens_details=None)\n"
     ]
    }
   ],
   "source": [
    "#lees de pagina's om deze later toe te voegen in de prompt\n",
    "page1 = open(\"../pages/home.md\", \"r\").read()\n",
    "page2 = open(\"../pages/informatieavond-5-november.md\", \"r\").read()\n",
    "pages = [\n",
    "    {\n",
    "        \"fileName\": \"home.md\",\n",
    "        \"content\": page1\n",
    "    },\n",
    "    {\n",
    "        \"fileName\": \"informatieavond-5-november.md\",\n",
    "        \"content\": page2\n",
    "    }\n",
    "   \n",
    "]\n",
    "    \n",
    "\n",
    "myDataQuestion = \"wanneer is de informatieavond?\"\n",
    "try:\n",
    "    myDataResponse = openai_client.chat.completions.create(\n",
    "        model = chat_deployment_name,\n",
    "        temperature=0.0,\n",
    "        messages=[\n",
    "            {\n",
    "                \"role\": \"user\",\n",
    "                \"content\": myDataQuestion\n",
    "            },\n",
    "            {\n",
    "                \"role\": \"system\",\n",
    "                \"content\" : f\"\"\"\n",
    "                    Je bent een behulpzame assistent\n",
    "                    Je geeft alleen antwoord op basis van de data die je hebt gekregen\n",
    "                    Indien je het antwoord niet kunt vinden, zeg je dat je het antwoord niet weet\n",
    "                    vermeld je bron document bij je antwoord\n",
    "\n",
    "                    ## data\n",
    "                    {pages}\n",
    "\n",
    "                    \"\"\"\n",
    "            }\n",
    "        ]\n",
    "    )\n",
    "\n",
    "    lines = textwrap.wrap(myDataResponse.choices[0].message.content, width=80)\n",
    "    for line in lines:\n",
    "        print(line)\n",
    "\n",
    "    print(\"----\")\n",
    "    print(\"Hier wat info over de tokens die je hebt gebruikt:\")\n",
    "    print(myDataResponse.usage)\n",
    "except Exception as e:\n",
    "    print(e)"
   ]
  },
  {
   "cell_type": "markdown",
   "metadata": {},
   "source": [
    "Okay....dit lijkt werken, maar we verbruiken heel veel tokens...tijd voor een volgende stap.\n",
    "\n",
    "***Embeddings en vectoren"
   ]
  }
 ],
 "metadata": {
  "kernelspec": {
   "display_name": ".venv",
   "language": "python",
   "name": "python3"
  },
  "language_info": {
   "codemirror_mode": {
    "name": "ipython",
    "version": 3
   },
   "file_extension": ".py",
   "mimetype": "text/x-python",
   "name": "python",
   "nbconvert_exporter": "python",
   "pygments_lexer": "ipython3",
   "version": "3.11.9"
  }
 },
 "nbformat": 4,
 "nbformat_minor": 2
}
